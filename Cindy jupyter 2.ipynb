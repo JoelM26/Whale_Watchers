{
 "cells": [
  {
   "cell_type": "code",
   "execution_count": 1,
   "metadata": {},
   "outputs": [],
   "source": [
    "import json\n",
    "import requests\n",
    "import pandas as pd\n",
    "from pandas.io.json import json_normalize\n",
    "import matplotlib.pyplot as plt\n",
    "import numpy as np\n",
    "from sqlalchemy import create_engine\n",
    "from sqlalchemy.ext.automap import automap_base\n",
    "from sqlalchemy import create_engine, inspect, func\n",
    "import datetime as dt\n",
    "import sqlite3\n"
   ]
  },
  {
   "cell_type": "code",
   "execution_count": 2,
   "metadata": {},
   "outputs": [],
   "source": [
    "url = \"http://hotline.whalemuseum.org/api.json?&limit=1000&page=\"\n",
    "page = 1"
   ]
  },
  {
   "cell_type": "code",
   "execution_count": 3,
   "metadata": {},
   "outputs": [],
   "source": [
    "json = []\n",
    "\n",
    "for page in range (1,20):\n",
    "    query = url + str(page)\n",
    "    response = requests.get(query)\n",
    "    response_json = response.json()\n",
    "    json.append(response_json)"
   ]
  },
  {
   "cell_type": "code",
   "execution_count": null,
   "metadata": {},
   "outputs": [],
   "source": []
  },
  {
   "cell_type": "code",
   "execution_count": null,
   "metadata": {},
   "outputs": [],
   "source": []
  },
  {
   "cell_type": "code",
   "execution_count": 4,
   "metadata": {},
   "outputs": [],
   "source": [
    "i=0\n",
    "for i in range (0,19): \n",
    "    if i == 0:\n",
    "        df = pd.DataFrame.from_dict(json_normalize(json[i]), orient = 'columns')\n",
    "    else: \n",
    "        df2 = pd.DataFrame.from_dict(json_normalize(json[i]), orient = 'columns')\n",
    "        df = df.append(df2)"
   ]
  },
  {
   "cell_type": "code",
   "execution_count": 5,
   "metadata": {
    "scrolled": true
   },
   "outputs": [
    {
     "data": {
      "text/html": [
       "<div>\n",
       "<style scoped>\n",
       "    .dataframe tbody tr th:only-of-type {\n",
       "        vertical-align: middle;\n",
       "    }\n",
       "\n",
       "    .dataframe tbody tr th {\n",
       "        vertical-align: top;\n",
       "    }\n",
       "\n",
       "    .dataframe thead th {\n",
       "        text-align: right;\n",
       "    }\n",
       "</style>\n",
       "<table border=\"1\" class=\"dataframe\">\n",
       "  <thead>\n",
       "    <tr style=\"text-align: right;\">\n",
       "      <th></th>\n",
       "      <th>id</th>\n",
       "      <th>species</th>\n",
       "      <th>quantity</th>\n",
       "      <th>description</th>\n",
       "      <th>url</th>\n",
       "      <th>latitude</th>\n",
       "      <th>longitude</th>\n",
       "      <th>location</th>\n",
       "      <th>sighted_at</th>\n",
       "      <th>created_at</th>\n",
       "      <th>updated_at</th>\n",
       "      <th>orca_type</th>\n",
       "      <th>orca_pod</th>\n",
       "    </tr>\n",
       "  </thead>\n",
       "  <tbody>\n",
       "    <tr>\n",
       "      <td>0</td>\n",
       "      <td>5a049b7e686f743ec5040000</td>\n",
       "      <td>orca</td>\n",
       "      <td>5</td>\n",
       "      <td>Spotted from the Edmonds-Kingston ferry, near ...</td>\n",
       "      <td>http://hotline.whalemuseum.org/sightings/5a049...</td>\n",
       "      <td>47.799530</td>\n",
       "      <td>-122.479967</td>\n",
       "      <td></td>\n",
       "      <td>2017-11-09T18:11:00Z</td>\n",
       "      <td>2017-11-09T18:16:30Z</td>\n",
       "      <td>2017-11-14T22:20:45Z</td>\n",
       "      <td>unknown</td>\n",
       "      <td>NaN</td>\n",
       "    </tr>\n",
       "    <tr>\n",
       "      <td>1</td>\n",
       "      <td>59d039a0686f743ec5020000</td>\n",
       "      <td>harbor porpoise</td>\n",
       "      <td>20</td>\n",
       "      <td>From the Inn at Langley looking east there was...</td>\n",
       "      <td>http://hotline.whalemuseum.org/sightings/59d03...</td>\n",
       "      <td>48.047448</td>\n",
       "      <td>-122.404776</td>\n",
       "      <td>Camano Island, WA, US</td>\n",
       "      <td>2017-10-01T00:38:00Z</td>\n",
       "      <td>2017-10-01T00:41:04Z</td>\n",
       "      <td>2017-10-03T22:01:43Z</td>\n",
       "      <td>unknown</td>\n",
       "      <td>NaN</td>\n",
       "    </tr>\n",
       "    <tr>\n",
       "      <td>2</td>\n",
       "      <td>59ab6d65686f747484140000</td>\n",
       "      <td>humpback</td>\n",
       "      <td>1</td>\n",
       "      <td>heading north in the Tacoma narrows,, between ...</td>\n",
       "      <td>http://hotline.whalemuseum.org/sightings/59ab6...</td>\n",
       "      <td>47.307289</td>\n",
       "      <td>-122.561674</td>\n",
       "      <td>Gig Harbor, WA, US</td>\n",
       "      <td>2017-09-03T00:45:00Z</td>\n",
       "      <td>2017-09-03T02:48:05Z</td>\n",
       "      <td>2017-09-06T18:17:03Z</td>\n",
       "      <td>unknown</td>\n",
       "      <td>NaN</td>\n",
       "    </tr>\n",
       "    <tr>\n",
       "      <td>3</td>\n",
       "      <td>597d058d686f7474840b0000</td>\n",
       "      <td>humpback</td>\n",
       "      <td>1</td>\n",
       "      <td>A large splash (breech?) first observed off Ke...</td>\n",
       "      <td>http://hotline.whalemuseum.org/sightings/597d0...</td>\n",
       "      <td>47.166960</td>\n",
       "      <td>-122.614546</td>\n",
       "      <td>Steilacoom, WA, US</td>\n",
       "      <td>2017-07-29T21:55:00Z</td>\n",
       "      <td>2017-07-29T22:00:45Z</td>\n",
       "      <td>2017-08-03T19:52:25Z</td>\n",
       "      <td>unknown</td>\n",
       "      <td>NaN</td>\n",
       "    </tr>\n",
       "    <tr>\n",
       "      <td>4</td>\n",
       "      <td>596b516e686f747484090000</td>\n",
       "      <td>humpback</td>\n",
       "      <td>1</td>\n",
       "      <td>On train near picnic point (south of Mukilteo)...</td>\n",
       "      <td>http://hotline.whalemuseum.org/sightings/596b5...</td>\n",
       "      <td>47.884579</td>\n",
       "      <td>-122.342120</td>\n",
       "      <td>Edmonds, WA, US</td>\n",
       "      <td>2017-07-16T02:39:00Z</td>\n",
       "      <td>2017-07-16T11:43:42Z</td>\n",
       "      <td>2017-08-03T19:51:46Z</td>\n",
       "      <td>unknown</td>\n",
       "      <td>NaN</td>\n",
       "    </tr>\n",
       "  </tbody>\n",
       "</table>\n",
       "</div>"
      ],
      "text/plain": [
       "                         id          species quantity  \\\n",
       "0  5a049b7e686f743ec5040000             orca        5   \n",
       "1  59d039a0686f743ec5020000  harbor porpoise       20   \n",
       "2  59ab6d65686f747484140000         humpback        1   \n",
       "3  597d058d686f7474840b0000         humpback        1   \n",
       "4  596b516e686f747484090000         humpback        1   \n",
       "\n",
       "                                         description  \\\n",
       "0  Spotted from the Edmonds-Kingston ferry, near ...   \n",
       "1  From the Inn at Langley looking east there was...   \n",
       "2  heading north in the Tacoma narrows,, between ...   \n",
       "3  A large splash (breech?) first observed off Ke...   \n",
       "4  On train near picnic point (south of Mukilteo)...   \n",
       "\n",
       "                                                 url   latitude   longitude  \\\n",
       "0  http://hotline.whalemuseum.org/sightings/5a049...  47.799530 -122.479967   \n",
       "1  http://hotline.whalemuseum.org/sightings/59d03...  48.047448 -122.404776   \n",
       "2  http://hotline.whalemuseum.org/sightings/59ab6...  47.307289 -122.561674   \n",
       "3  http://hotline.whalemuseum.org/sightings/597d0...  47.166960 -122.614546   \n",
       "4  http://hotline.whalemuseum.org/sightings/596b5...  47.884579 -122.342120   \n",
       "\n",
       "                location            sighted_at            created_at  \\\n",
       "0                         2017-11-09T18:11:00Z  2017-11-09T18:16:30Z   \n",
       "1  Camano Island, WA, US  2017-10-01T00:38:00Z  2017-10-01T00:41:04Z   \n",
       "2     Gig Harbor, WA, US  2017-09-03T00:45:00Z  2017-09-03T02:48:05Z   \n",
       "3     Steilacoom, WA, US  2017-07-29T21:55:00Z  2017-07-29T22:00:45Z   \n",
       "4        Edmonds, WA, US  2017-07-16T02:39:00Z  2017-07-16T11:43:42Z   \n",
       "\n",
       "             updated_at orca_type orca_pod  \n",
       "0  2017-11-14T22:20:45Z   unknown      NaN  \n",
       "1  2017-10-03T22:01:43Z   unknown      NaN  \n",
       "2  2017-09-06T18:17:03Z   unknown      NaN  \n",
       "3  2017-08-03T19:52:25Z   unknown      NaN  \n",
       "4  2017-08-03T19:51:46Z   unknown      NaN  "
      ]
     },
     "execution_count": 5,
     "metadata": {},
     "output_type": "execute_result"
    }
   ],
   "source": [
    "df = df.reindex()\n",
    "\n",
    "df.head()\n"
   ]
  },
  {
   "cell_type": "code",
   "execution_count": 6,
   "metadata": {},
   "outputs": [
    {
     "name": "stderr",
     "output_type": "stream",
     "text": [
      "C:\\Users\\cindy\\AppData\\Local\\Continuum\\anaconda3\\lib\\site-packages\\pandas\\core\\arrays\\datetimes.py:1269: UserWarning: Converting to PeriodArray/Index representation will drop timezone information.\n",
      "  UserWarning,\n"
     ]
    },
    {
     "data": {
      "text/html": [
       "<div>\n",
       "<style scoped>\n",
       "    .dataframe tbody tr th:only-of-type {\n",
       "        vertical-align: middle;\n",
       "    }\n",
       "\n",
       "    .dataframe tbody tr th {\n",
       "        vertical-align: top;\n",
       "    }\n",
       "\n",
       "    .dataframe thead th {\n",
       "        text-align: right;\n",
       "    }\n",
       "</style>\n",
       "<table border=\"1\" class=\"dataframe\">\n",
       "  <thead>\n",
       "    <tr style=\"text-align: right;\">\n",
       "      <th></th>\n",
       "      <th>id</th>\n",
       "      <th>species</th>\n",
       "      <th>quantity</th>\n",
       "      <th>description</th>\n",
       "      <th>url</th>\n",
       "      <th>latitude</th>\n",
       "      <th>longitude</th>\n",
       "      <th>location</th>\n",
       "      <th>sighted_at</th>\n",
       "      <th>created_at</th>\n",
       "      <th>updated_at</th>\n",
       "      <th>orca_type</th>\n",
       "      <th>orca_pod</th>\n",
       "      <th>month</th>\n",
       "      <th>year</th>\n",
       "      <th>hour</th>\n",
       "      <th>year_month</th>\n",
       "    </tr>\n",
       "  </thead>\n",
       "  <tbody>\n",
       "    <tr>\n",
       "      <td>0</td>\n",
       "      <td>5a049b7e686f743ec5040000</td>\n",
       "      <td>orca</td>\n",
       "      <td>5</td>\n",
       "      <td>Spotted from the Edmonds-Kingston ferry, near ...</td>\n",
       "      <td>http://hotline.whalemuseum.org/sightings/5a049...</td>\n",
       "      <td>47.799530</td>\n",
       "      <td>-122.479967</td>\n",
       "      <td></td>\n",
       "      <td>2017-11-09T18:11:00Z</td>\n",
       "      <td>2017-11-09T18:16:30Z</td>\n",
       "      <td>2017-11-14T22:20:45Z</td>\n",
       "      <td>unknown</td>\n",
       "      <td>NaN</td>\n",
       "      <td>11</td>\n",
       "      <td>2017</td>\n",
       "      <td>18</td>\n",
       "      <td>2017-11</td>\n",
       "    </tr>\n",
       "    <tr>\n",
       "      <td>1</td>\n",
       "      <td>59d039a0686f743ec5020000</td>\n",
       "      <td>harbor porpoise</td>\n",
       "      <td>20</td>\n",
       "      <td>From the Inn at Langley looking east there was...</td>\n",
       "      <td>http://hotline.whalemuseum.org/sightings/59d03...</td>\n",
       "      <td>48.047448</td>\n",
       "      <td>-122.404776</td>\n",
       "      <td>Camano Island, WA, US</td>\n",
       "      <td>2017-10-01T00:38:00Z</td>\n",
       "      <td>2017-10-01T00:41:04Z</td>\n",
       "      <td>2017-10-03T22:01:43Z</td>\n",
       "      <td>unknown</td>\n",
       "      <td>NaN</td>\n",
       "      <td>10</td>\n",
       "      <td>2017</td>\n",
       "      <td>0</td>\n",
       "      <td>2017-10</td>\n",
       "    </tr>\n",
       "    <tr>\n",
       "      <td>2</td>\n",
       "      <td>59ab6d65686f747484140000</td>\n",
       "      <td>humpback</td>\n",
       "      <td>1</td>\n",
       "      <td>heading north in the Tacoma narrows,, between ...</td>\n",
       "      <td>http://hotline.whalemuseum.org/sightings/59ab6...</td>\n",
       "      <td>47.307289</td>\n",
       "      <td>-122.561674</td>\n",
       "      <td>Gig Harbor, WA, US</td>\n",
       "      <td>2017-09-03T00:45:00Z</td>\n",
       "      <td>2017-09-03T02:48:05Z</td>\n",
       "      <td>2017-09-06T18:17:03Z</td>\n",
       "      <td>unknown</td>\n",
       "      <td>NaN</td>\n",
       "      <td>9</td>\n",
       "      <td>2017</td>\n",
       "      <td>0</td>\n",
       "      <td>2017-09</td>\n",
       "    </tr>\n",
       "    <tr>\n",
       "      <td>3</td>\n",
       "      <td>597d058d686f7474840b0000</td>\n",
       "      <td>humpback</td>\n",
       "      <td>1</td>\n",
       "      <td>A large splash (breech?) first observed off Ke...</td>\n",
       "      <td>http://hotline.whalemuseum.org/sightings/597d0...</td>\n",
       "      <td>47.166960</td>\n",
       "      <td>-122.614546</td>\n",
       "      <td>Steilacoom, WA, US</td>\n",
       "      <td>2017-07-29T21:55:00Z</td>\n",
       "      <td>2017-07-29T22:00:45Z</td>\n",
       "      <td>2017-08-03T19:52:25Z</td>\n",
       "      <td>unknown</td>\n",
       "      <td>NaN</td>\n",
       "      <td>7</td>\n",
       "      <td>2017</td>\n",
       "      <td>21</td>\n",
       "      <td>2017-07</td>\n",
       "    </tr>\n",
       "    <tr>\n",
       "      <td>4</td>\n",
       "      <td>596b516e686f747484090000</td>\n",
       "      <td>humpback</td>\n",
       "      <td>1</td>\n",
       "      <td>On train near picnic point (south of Mukilteo)...</td>\n",
       "      <td>http://hotline.whalemuseum.org/sightings/596b5...</td>\n",
       "      <td>47.884579</td>\n",
       "      <td>-122.342120</td>\n",
       "      <td>Edmonds, WA, US</td>\n",
       "      <td>2017-07-16T02:39:00Z</td>\n",
       "      <td>2017-07-16T11:43:42Z</td>\n",
       "      <td>2017-08-03T19:51:46Z</td>\n",
       "      <td>unknown</td>\n",
       "      <td>NaN</td>\n",
       "      <td>7</td>\n",
       "      <td>2017</td>\n",
       "      <td>2</td>\n",
       "      <td>2017-07</td>\n",
       "    </tr>\n",
       "  </tbody>\n",
       "</table>\n",
       "</div>"
      ],
      "text/plain": [
       "                         id          species quantity  \\\n",
       "0  5a049b7e686f743ec5040000             orca        5   \n",
       "1  59d039a0686f743ec5020000  harbor porpoise       20   \n",
       "2  59ab6d65686f747484140000         humpback        1   \n",
       "3  597d058d686f7474840b0000         humpback        1   \n",
       "4  596b516e686f747484090000         humpback        1   \n",
       "\n",
       "                                         description  \\\n",
       "0  Spotted from the Edmonds-Kingston ferry, near ...   \n",
       "1  From the Inn at Langley looking east there was...   \n",
       "2  heading north in the Tacoma narrows,, between ...   \n",
       "3  A large splash (breech?) first observed off Ke...   \n",
       "4  On train near picnic point (south of Mukilteo)...   \n",
       "\n",
       "                                                 url   latitude   longitude  \\\n",
       "0  http://hotline.whalemuseum.org/sightings/5a049...  47.799530 -122.479967   \n",
       "1  http://hotline.whalemuseum.org/sightings/59d03...  48.047448 -122.404776   \n",
       "2  http://hotline.whalemuseum.org/sightings/59ab6...  47.307289 -122.561674   \n",
       "3  http://hotline.whalemuseum.org/sightings/597d0...  47.166960 -122.614546   \n",
       "4  http://hotline.whalemuseum.org/sightings/596b5...  47.884579 -122.342120   \n",
       "\n",
       "                location            sighted_at            created_at  \\\n",
       "0                         2017-11-09T18:11:00Z  2017-11-09T18:16:30Z   \n",
       "1  Camano Island, WA, US  2017-10-01T00:38:00Z  2017-10-01T00:41:04Z   \n",
       "2     Gig Harbor, WA, US  2017-09-03T00:45:00Z  2017-09-03T02:48:05Z   \n",
       "3     Steilacoom, WA, US  2017-07-29T21:55:00Z  2017-07-29T22:00:45Z   \n",
       "4        Edmonds, WA, US  2017-07-16T02:39:00Z  2017-07-16T11:43:42Z   \n",
       "\n",
       "             updated_at orca_type orca_pod  month  year  hour year_month  \n",
       "0  2017-11-14T22:20:45Z   unknown      NaN     11  2017    18    2017-11  \n",
       "1  2017-10-03T22:01:43Z   unknown      NaN     10  2017     0    2017-10  \n",
       "2  2017-09-06T18:17:03Z   unknown      NaN      9  2017     0    2017-09  \n",
       "3  2017-08-03T19:52:25Z   unknown      NaN      7  2017    21    2017-07  \n",
       "4  2017-08-03T19:51:46Z   unknown      NaN      7  2017     2    2017-07  "
      ]
     },
     "execution_count": 6,
     "metadata": {},
     "output_type": "execute_result"
    }
   ],
   "source": [
    "df[\"month\"]=pd.DatetimeIndex(df[\"sighted_at\"]).month\n",
    "df[\"year\"]=pd.DatetimeIndex(df[\"sighted_at\"]).year\n",
    "df[\"hour\"]=pd.DatetimeIndex(df[\"sighted_at\"]).hour\n",
    "df[\"year_month\"]=pd.to_datetime(df[\"sighted_at\"]).dt.to_period('M')\n",
    "\n",
    "df.head()"
   ]
  },
  {
   "cell_type": "code",
   "execution_count": 7,
   "metadata": {},
   "outputs": [],
   "source": [
    "\n",
    "df = df.drop(columns =['url', 'quantity', 'created_at', 'updated_at' ])"
   ]
  },
  {
   "cell_type": "code",
   "execution_count": 8,
   "metadata": {},
   "outputs": [],
   "source": [
    "df['hour_pst']=np.where(df['hour']<=8, df['hour'] + 16, df['hour']-8)\n"
   ]
  },
  {
   "cell_type": "code",
   "execution_count": 9,
   "metadata": {},
   "outputs": [],
   "source": [
    "df['year_month']=df['year_month'].astype(str)"
   ]
  },
  {
   "cell_type": "code",
   "execution_count": null,
   "metadata": {},
   "outputs": [],
   "source": [
    "\n",
    "df.head()"
   ]
  },
  {
   "cell_type": "code",
   "execution_count": null,
   "metadata": {},
   "outputs": [],
   "source": [
    "df.columns\n"
   ]
  },
  {
   "cell_type": "code",
   "execution_count": 10,
   "metadata": {},
   "outputs": [],
   "source": [
    "conn = sqlite3.connect(\"whale_watching.sqlite\")\n",
    "c = conn.cursor()\n",
    "\n",
    "df.to_sql(\"Whales\",conn,schema=None,if_exists='replace',index=False, index_label=None, chunksize=None, dtype=None)\n",
    "\n",
    "#connect to the database\n",
    "\n",
    "\n",
    "c.executescript('''\n",
    "    PRAGMA foreign_keys=off;\n",
    "    \n",
    "    BEGIN TRANSACTION;\n",
    "    \n",
    "    ALTER TABLE \"Whales\" RENAME TO old_table2;\n",
    "\n",
    "    /*create a new table with the same column names and types while\n",
    "    defining a primary key for the desired column*/\n",
    "    CREATE TABLE new_table (id TEXT PRIMARY KEY NOT NULL,\n",
    "                            species TEXT, description TEXT, latitude DOUBLE , longitude DOUBLE, location TEXT,\n",
    "       sighted_at TEXT, orca_type TEXt, orca_pod TEXT, month INT, year INT, hour INT,\n",
    "       year_month TEXT, hour_pst INT);\n",
    "\n",
    "    INSERT INTO new_table SELECT id, species, description, latitude, longitude, location,\n",
    "       sighted_at,orca_type, orca_pod, month, year, hour,\n",
    "       year_month, hour_pst FROM old_table2;\n",
    "\n",
    "    DROP TABLE old_table2;\n",
    "    COMMIT TRANSACTION;\n",
    "\n",
    "    PRAGMA foreign_keys=on;''')\n",
    "\n",
    "#close out the connection\n",
    "c.close()\n",
    "conn.close()"
   ]
  },
  {
   "cell_type": "code",
   "execution_count": 12,
   "metadata": {},
   "outputs": [
    {
     "ename": "ProgrammingError",
     "evalue": "Cannot operate on a closed database.",
     "output_type": "error",
     "traceback": [
      "\u001b[1;31m---------------------------------------------------------------------------\u001b[0m",
      "\u001b[1;31mProgrammingError\u001b[0m                          Traceback (most recent call last)",
      "\u001b[1;32m<ipython-input-12-f3686a3ad5d9>\u001b[0m in \u001b[0;36m<module>\u001b[1;34m\u001b[0m\n\u001b[1;32m----> 1\u001b[1;33m \u001b[0mdata\u001b[0m \u001b[1;33m=\u001b[0m \u001b[0mpd\u001b[0m\u001b[1;33m.\u001b[0m\u001b[0mread_sql\u001b[0m\u001b[1;33m(\u001b[0m\u001b[1;34m\"SELECT * FROM new_table\"\u001b[0m\u001b[1;33m,\u001b[0m \u001b[0mconn\u001b[0m \u001b[1;33m)\u001b[0m\u001b[1;33m\u001b[0m\u001b[1;33m\u001b[0m\u001b[0m\n\u001b[0m\u001b[0;32m      2\u001b[0m \u001b[0mdata\u001b[0m\u001b[1;33m.\u001b[0m\u001b[0mhead\u001b[0m\u001b[1;33m(\u001b[0m\u001b[1;36m50\u001b[0m\u001b[1;33m)\u001b[0m\u001b[1;33m\u001b[0m\u001b[1;33m\u001b[0m\u001b[0m\n",
      "\u001b[1;32m~\\AppData\\Local\\Continuum\\anaconda3\\lib\\site-packages\\pandas\\io\\sql.py\u001b[0m in \u001b[0;36mread_sql\u001b[1;34m(sql, con, index_col, coerce_float, params, parse_dates, columns, chunksize)\u001b[0m\n\u001b[0;32m    408\u001b[0m             \u001b[0mcoerce_float\u001b[0m\u001b[1;33m=\u001b[0m\u001b[0mcoerce_float\u001b[0m\u001b[1;33m,\u001b[0m\u001b[1;33m\u001b[0m\u001b[1;33m\u001b[0m\u001b[0m\n\u001b[0;32m    409\u001b[0m             \u001b[0mparse_dates\u001b[0m\u001b[1;33m=\u001b[0m\u001b[0mparse_dates\u001b[0m\u001b[1;33m,\u001b[0m\u001b[1;33m\u001b[0m\u001b[1;33m\u001b[0m\u001b[0m\n\u001b[1;32m--> 410\u001b[1;33m             \u001b[0mchunksize\u001b[0m\u001b[1;33m=\u001b[0m\u001b[0mchunksize\u001b[0m\u001b[1;33m,\u001b[0m\u001b[1;33m\u001b[0m\u001b[1;33m\u001b[0m\u001b[0m\n\u001b[0m\u001b[0;32m    411\u001b[0m         )\n\u001b[0;32m    412\u001b[0m \u001b[1;33m\u001b[0m\u001b[0m\n",
      "\u001b[1;32m~\\AppData\\Local\\Continuum\\anaconda3\\lib\\site-packages\\pandas\\io\\sql.py\u001b[0m in \u001b[0;36mread_query\u001b[1;34m(self, sql, index_col, coerce_float, params, parse_dates, chunksize)\u001b[0m\n\u001b[0;32m   1643\u001b[0m \u001b[1;33m\u001b[0m\u001b[0m\n\u001b[0;32m   1644\u001b[0m         \u001b[0margs\u001b[0m \u001b[1;33m=\u001b[0m \u001b[0m_convert_params\u001b[0m\u001b[1;33m(\u001b[0m\u001b[0msql\u001b[0m\u001b[1;33m,\u001b[0m \u001b[0mparams\u001b[0m\u001b[1;33m)\u001b[0m\u001b[1;33m\u001b[0m\u001b[1;33m\u001b[0m\u001b[0m\n\u001b[1;32m-> 1645\u001b[1;33m         \u001b[0mcursor\u001b[0m \u001b[1;33m=\u001b[0m \u001b[0mself\u001b[0m\u001b[1;33m.\u001b[0m\u001b[0mexecute\u001b[0m\u001b[1;33m(\u001b[0m\u001b[1;33m*\u001b[0m\u001b[0margs\u001b[0m\u001b[1;33m)\u001b[0m\u001b[1;33m\u001b[0m\u001b[1;33m\u001b[0m\u001b[0m\n\u001b[0m\u001b[0;32m   1646\u001b[0m         \u001b[0mcolumns\u001b[0m \u001b[1;33m=\u001b[0m \u001b[1;33m[\u001b[0m\u001b[0mcol_desc\u001b[0m\u001b[1;33m[\u001b[0m\u001b[1;36m0\u001b[0m\u001b[1;33m]\u001b[0m \u001b[1;32mfor\u001b[0m \u001b[0mcol_desc\u001b[0m \u001b[1;32min\u001b[0m \u001b[0mcursor\u001b[0m\u001b[1;33m.\u001b[0m\u001b[0mdescription\u001b[0m\u001b[1;33m]\u001b[0m\u001b[1;33m\u001b[0m\u001b[1;33m\u001b[0m\u001b[0m\n\u001b[0;32m   1647\u001b[0m \u001b[1;33m\u001b[0m\u001b[0m\n",
      "\u001b[1;32m~\\AppData\\Local\\Continuum\\anaconda3\\lib\\site-packages\\pandas\\io\\sql.py\u001b[0m in \u001b[0;36mexecute\u001b[1;34m(self, *args, **kwargs)\u001b[0m\n\u001b[0;32m   1588\u001b[0m             \u001b[0mcur\u001b[0m \u001b[1;33m=\u001b[0m \u001b[0mself\u001b[0m\u001b[1;33m.\u001b[0m\u001b[0mcon\u001b[0m\u001b[1;33m\u001b[0m\u001b[1;33m\u001b[0m\u001b[0m\n\u001b[0;32m   1589\u001b[0m         \u001b[1;32melse\u001b[0m\u001b[1;33m:\u001b[0m\u001b[1;33m\u001b[0m\u001b[1;33m\u001b[0m\u001b[0m\n\u001b[1;32m-> 1590\u001b[1;33m             \u001b[0mcur\u001b[0m \u001b[1;33m=\u001b[0m \u001b[0mself\u001b[0m\u001b[1;33m.\u001b[0m\u001b[0mcon\u001b[0m\u001b[1;33m.\u001b[0m\u001b[0mcursor\u001b[0m\u001b[1;33m(\u001b[0m\u001b[1;33m)\u001b[0m\u001b[1;33m\u001b[0m\u001b[1;33m\u001b[0m\u001b[0m\n\u001b[0m\u001b[0;32m   1591\u001b[0m         \u001b[1;32mtry\u001b[0m\u001b[1;33m:\u001b[0m\u001b[1;33m\u001b[0m\u001b[1;33m\u001b[0m\u001b[0m\n\u001b[0;32m   1592\u001b[0m             \u001b[1;32mif\u001b[0m \u001b[0mkwargs\u001b[0m\u001b[1;33m:\u001b[0m\u001b[1;33m\u001b[0m\u001b[1;33m\u001b[0m\u001b[0m\n",
      "\u001b[1;31mProgrammingError\u001b[0m: Cannot operate on a closed database."
     ]
    }
   ],
   "source": [
    "data = pd.read_sql(\"SELECT * FROM new_table\", conn )\n",
    "data.head(50)"
   ]
  },
  {
   "cell_type": "code",
   "execution_count": null,
   "metadata": {},
   "outputs": [],
   "source": [
    "# reflect an existing database into a new model\n",
    "Base = automap_base()\n",
    "# Base = declarative_base()\n",
    "\n",
    "# reflect the tables\n",
    "Base.prepare(engine, reflect = True)"
   ]
  },
  {
   "cell_type": "code",
   "execution_count": null,
   "metadata": {},
   "outputs": [],
   "source": [
    "Base.classes.keys()"
   ]
  },
  {
   "cell_type": "code",
   "execution_count": null,
   "metadata": {},
   "outputs": [],
   "source": [
    "inspector = inspect(engine)\n",
    "inspector.get_table_names()\n",
    "# Get a list of column names and types\n",
    "columns_s = inspector.get_columns('Whales')\n",
    "for c in columns_s:\n",
    "    print(c['name'], c['type'])"
   ]
  },
  {
   "cell_type": "code",
   "execution_count": null,
   "metadata": {},
   "outputs": [],
   "source": []
  },
  {
   "cell_type": "code",
   "execution_count": null,
   "metadata": {},
   "outputs": [],
   "source": []
  },
  {
   "cell_type": "code",
   "execution_count": null,
   "metadata": {},
   "outputs": [],
   "source": [
    "df.to_json(r'data.json', orient = 'records')"
   ]
  },
  {
   "cell_type": "code",
   "execution_count": null,
   "metadata": {},
   "outputs": [],
   "source": [
    "df.count()"
   ]
  },
  {
   "cell_type": "code",
   "execution_count": null,
   "metadata": {},
   "outputs": [],
   "source": [
    "df.head()"
   ]
  },
  {
   "cell_type": "code",
   "execution_count": null,
   "metadata": {},
   "outputs": [],
   "source": [
    "locations = df.groupby(['location'])['id'].count()\n",
    "print(locations)"
   ]
  },
  {
   "cell_type": "code",
   "execution_count": null,
   "metadata": {},
   "outputs": [],
   "source": [
    "locations.plot(kind = \"pie\", autopct =\"%1.1f%%\")\n",
    "plt.title(\"Whale Sightings by Location\")\n",
    "plt.show()"
   ]
  },
  {
   "cell_type": "code",
   "execution_count": null,
   "metadata": {},
   "outputs": [],
   "source": [
    "#df[\"created_at\"] = pd.to_datetime(df[\"created_at\"])\n",
    "df[\"month\"]=pd.DatetimeIndex(df[\"sighted_at\"]).year\n",
    "\n",
    "\n",
    "df.head()"
   ]
  },
  {
   "cell_type": "code",
   "execution_count": null,
   "metadata": {},
   "outputs": [],
   "source": [
    "month = df.groupby([\"month\"])[\"id\"].count()\n",
    "month.plot(kind=\"bar\")"
   ]
  },
  {
   "cell_type": "code",
   "execution_count": null,
   "metadata": {},
   "outputs": [],
   "source": [
    "species = df.groupby([\"orca_pod\"])[\"id\"].count()\n",
    "species.plot(kind=\"pie\", autopct=\"%1.1f%%\", startangle = 90)\n",
    "plt.ylabel(\"\")\n",
    "plt.title(\"Whale Sightings by Pod\")"
   ]
  }
 ],
 "metadata": {
  "kernelspec": {
   "display_name": "Python 3",
   "language": "python",
   "name": "python3"
  },
  "language_info": {
   "codemirror_mode": {
    "name": "ipython",
    "version": 3
   },
   "file_extension": ".py",
   "mimetype": "text/x-python",
   "name": "python",
   "nbconvert_exporter": "python",
   "pygments_lexer": "ipython3",
   "version": "3.7.4"
  }
 },
 "nbformat": 4,
 "nbformat_minor": 2
}
