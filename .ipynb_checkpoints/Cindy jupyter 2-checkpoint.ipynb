{
 "cells": [
  {
   "cell_type": "code",
   "execution_count": 1,
   "metadata": {},
   "outputs": [],
   "source": [
    "#import dependencies\n",
    "import json\n",
    "import requests\n",
    "import pandas as pd\n",
    "from pandas.io.json import json_normalize\n",
    "import matplotlib.pyplot as plt\n",
    "import numpy as np\n",
    "from sqlalchemy import create_engine\n",
    "from sqlalchemy.ext.automap import automap_base\n",
    "from sqlalchemy import create_engine, inspect, func\n",
    "import datetime as dt\n",
    "import sqlite3\n"
   ]
  },
  {
   "cell_type": "code",
   "execution_count": 2,
   "metadata": {},
   "outputs": [],
   "source": [
    "#url data was extracted from\n",
    "url = \"http://hotline.whalemuseum.org/api.json?&limit=1000&page=\"\n",
    "page = 1"
   ]
  },
  {
   "cell_type": "code",
   "execution_count": 3,
   "metadata": {},
   "outputs": [],
   "source": [
    "#loop to create one big file with all the records since the webpage limits to 1000 results\n",
    "json = []\n",
    "\n",
    "for page in range (1,20):\n",
    "    query = url + str(page)\n",
    "    response = requests.get(query)\n",
    "    response_json = response.json()\n",
    "    json.append(response_json)"
   ]
  },
  {
   "cell_type": "code",
   "execution_count": null,
   "metadata": {},
   "outputs": [],
   "source": [
    "#creates a dataframe with all of the records from the data above\n",
    "i=0\n",
    "for i in range (0,19): \n",
    "    if i == 0:\n",
    "        df = pd.DataFrame.from_dict(json_normalize(json[i]), orient = 'columns')\n",
    "    else: \n",
    "        df2 = pd.DataFrame.from_dict(json_normalize(json[i]), orient = 'columns')\n",
    "        df = df.append(df2)"
   ]
  },
  {
   "cell_type": "code",
   "execution_count": null,
   "metadata": {
    "scrolled": true
   },
   "outputs": [],
   "source": [
    "#resets the index so it doesn't start over with every new page\n",
    "df = df.reindex()\n"
   ]
  },
  {
   "cell_type": "code",
   "execution_count": null,
   "metadata": {},
   "outputs": [],
   "source": [
    "#converts the zulu time to PST where the sightings occur\n",
    "df[\"sighted_at\"] = pd.DatetimeIndex(df[\"sighted_at\"]).tz_convert('US/Pacific')\n"
   ]
  },
  {
   "cell_type": "code",
   "execution_count": null,
   "metadata": {},
   "outputs": [],
   "source": [
    "#creates additional time/date columns to filter and create various views of the data\n",
    "df[\"date\"] = df[\"sighted_at\"].dt.strftime('%m/%d/%Y')\n",
    "df[\"time\"]=pd.DatetimeIndex(df[\"sighted_at\"]).time\n",
    "df[\"month\"]=pd.DatetimeIndex(df[\"sighted_at\"]).month\n",
    "df[\"year\"]=pd.DatetimeIndex(df[\"sighted_at\"]).year\n",
    "df[\"hour\"]=pd.DatetimeIndex(df[\"sighted_at\"]).hour\n",
    "df[\"year_month\"]=pd.to_datetime(df[\"sighted_at\"]).dt.to_period('M')\n"
   ]
  },
  {
   "cell_type": "code",
   "execution_count": null,
   "metadata": {},
   "outputs": [],
   "source": [
    "#gets rid of the unnecessary columns\n",
    "df = df.drop(columns =['url', 'quantity', 'created_at', 'updated_at' ])"
   ]
  },
  {
   "cell_type": "code",
   "execution_count": null,
   "metadata": {},
   "outputs": [],
   "source": [
    "#transforms the year_month column to a string\n",
    "df['year_month']=df['year_month'].astype(str)"
   ]
  },
  {
   "cell_type": "code",
   "execution_count": null,
   "metadata": {},
   "outputs": [],
   "source": [
    "# #creates the connection to the database and copies the the database created and recreates it with a primary key\n",
    "# conn = sqlite3.connect(\"whale_watching.sqlite\")\n",
    "# c = conn.cursor()\n",
    "\n",
    "# df.to_sql(\"Whales\",conn,schema=None,if_exists='replace',index=False, index_label=None, chunksize=None, dtype=None)\n"
   ]
  },
  {
   "cell_type": "code",
   "execution_count": null,
   "metadata": {},
   "outputs": [],
   "source": [
    "# #connect to the database\n",
    "\n",
    "\n",
    "# c.executescript('''\n",
    "#     PRAGMA foreign_keys=off;\n",
    "    \n",
    "#     BEGIN TRANSACTION;\n",
    "    \n",
    "#     ALTER TABLE \"Whales\" RENAME TO old_table;\n",
    "\n",
    "#     /*create a new table with the same column names and types while\n",
    "#     defining a primary key for the desired column*/\n",
    "#     CREATE TABLE whale_table (id TEXT PRIMARY KEY NOT NULL,\n",
    "#                             species TEXT, description TEXT, latitude DOUBLE , longitude DOUBLE, location TEXT,\n",
    "#        sighted_at TEXT, orca_type TEXt, orca_pod TEXT, date TEXT, time TEXT, month INT, year INT, hour INT,\n",
    "#        year_month TEXT);\n",
    "\n",
    "#     INSERT INTO whale_table SELECT id, species, description, latitude, longitude, location,\n",
    "#        sighted_at,orca_type, orca_pod, date, time, month, year, hour,\n",
    "#        year_month FROM old_table;\n",
    "\n",
    "#     DROP TABLE old_table;\n",
    "#     COMMIT TRANSACTION;\n",
    "\n",
    "#     PRAGMA foreign_keys=on;''')\n",
    "\n"
   ]
  },
  {
   "cell_type": "code",
   "execution_count": null,
   "metadata": {},
   "outputs": [],
   "source": [
    "# data = pd.read_sql(\"SELECT * FROM whale_table\", conn )\n",
    "# data.head()"
   ]
  },
  {
   "cell_type": "code",
   "execution_count": null,
   "metadata": {},
   "outputs": [],
   "source": [
    "# # reflect an existing database into a new model\n",
    "# Base = automap_base()\n",
    "# #Base = declarative_base()\n",
    "# engine = create_engine(\"sqlite:///whale_watching.sqlite\")\n",
    "# # reflect the tables\n",
    "# Base.prepare(engine, reflect = True)"
   ]
  },
  {
   "cell_type": "code",
   "execution_count": null,
   "metadata": {},
   "outputs": [],
   "source": [
    "# Base.classes.keys()"
   ]
  },
  {
   "cell_type": "code",
   "execution_count": null,
   "metadata": {},
   "outputs": [],
   "source": [
    "# #inspect the database\n",
    "# inspector = inspect(engine)\n",
    "# inspector.get_table_names()\n"
   ]
  },
  {
   "cell_type": "code",
   "execution_count": null,
   "metadata": {},
   "outputs": [],
   "source": [
    "# # Get a list of column names and types\n",
    "# columns_s = inspector.get_columns('Whales')\n",
    "# for c in columns_s:\n",
    "#     print(c['name'], c['type'])"
   ]
  },
  {
   "cell_type": "code",
   "execution_count": null,
   "metadata": {},
   "outputs": [],
   "source": [
    "# c.execute(\"DROP TABLE Whales\")\n",
    "# conn.commit()"
   ]
  },
  {
   "cell_type": "code",
   "execution_count": null,
   "metadata": {},
   "outputs": [],
   "source": [
    "# #close out the connection\n",
    "# c.close()\n",
    "# conn.close()"
   ]
  },
  {
   "cell_type": "code",
   "execution_count": null,
   "metadata": {},
   "outputs": [],
   "source": [
    "#groupby to determine the count of sightings at each location\n",
    "locations = df.groupby(['location'])['id'].count()\n",
    "print(locations)"
   ]
  },
  {
   "cell_type": "code",
   "execution_count": null,
   "metadata": {},
   "outputs": [],
   "source": [
    "#creates an ugly pie chart of the locations.  71% of the sightings were at the same location and there are too many locations to map\n",
    "locations.plot(kind = \"pie\", autopct =\"%1.1f%%\")\n",
    "plt.title(\"Whale Sightings by Location\")\n",
    "plt.show()"
   ]
  },
  {
   "cell_type": "code",
   "execution_count": null,
   "metadata": {},
   "outputs": [],
   "source": [
    "#creates a bar graph of the # of sightings per month\n",
    "month = df.groupby([\"month\"])[\"id\"].count()\n",
    "month.plot(kind=\"bar\")\n",
    "plt.ylabel(\"Sightings\")\n",
    "plt.xlabel(\"Month\")\n",
    "plt.title(\"Whale Sightings by Month\")"
   ]
  },
  {
   "cell_type": "code",
   "execution_count": null,
   "metadata": {},
   "outputs": [],
   "source": [
    "#creates a pie chart of the various pod sightings\n",
    "pods = df.groupby([\"orca_pod\"])[\"id\"].count()\n",
    "pods.plot(kind=\"pie\", autopct=\"%1.1f%%\", startangle = 90)\n",
    "plt.ylabel(\"\")\n",
    "plt.title(\"Whale Sightings by Pod\")"
   ]
  },
  {
   "cell_type": "code",
   "execution_count": null,
   "metadata": {},
   "outputs": [],
   "source": [
    "#creates a bar graph of the # of sightings by time of day\n",
    "hour = df.groupby([\"hour\"])[\"id\"].count()\n",
    "month.plot(kind=\"bar\")\n",
    "plt.ylabel(\"Sightings\")\n",
    "plt.xlabel(\"Hour\")\n",
    "plt.title(\"Whale Sightings by Time of Day\")"
   ]
  },
  {
   "cell_type": "code",
   "execution_count": null,
   "metadata": {},
   "outputs": [],
   "source": [
    "species = df.groupby([\"species\"])[\"id\"].count()\n",
    "species"
   ]
  }
 ],
 "metadata": {
  "kernelspec": {
   "display_name": "Python 3",
   "language": "python",
   "name": "python3"
  },
  "language_info": {
   "codemirror_mode": {
    "name": "ipython",
    "version": 3
   },
   "file_extension": ".py",
   "mimetype": "text/x-python",
   "name": "python",
   "nbconvert_exporter": "python",
   "pygments_lexer": "ipython3",
   "version": "3.7.4"
  }
 },
 "nbformat": 4,
 "nbformat_minor": 2
}
