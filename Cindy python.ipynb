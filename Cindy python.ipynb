{
 "cells": [
  {
   "cell_type": "code",
   "execution_count": 1,
   "metadata": {},
   "outputs": [],
   "source": [
    "import json\n",
    "import requests\n",
    "import pandas as pd\n",
    "from pandas.io.json import json_normalize\n",
    "import matplotlib.pyplot as plt\n",
    "import numpy as np\n"
   ]
  },
  {
   "cell_type": "code",
   "execution_count": 2,
   "metadata": {},
   "outputs": [],
   "source": [
    "url = \"http://hotline.whalemuseum.org/api.json?&limit=1000&page=\"\n",
    "page = 1"
   ]
  },
  {
   "cell_type": "code",
   "execution_count": 3,
   "metadata": {},
   "outputs": [],
   "source": [
    "json = []\n",
    "\n",
    "for page in range (1,20):\n",
    "    query = url + str(page)\n",
    "    response = requests.get(query)\n",
    "    response_json = response.json()\n",
    "    json.append(response_json)"
   ]
  },
  {
   "cell_type": "code",
   "execution_count": null,
   "metadata": {},
   "outputs": [],
   "source": []
  },
  {
   "cell_type": "code",
   "execution_count": null,
   "metadata": {},
   "outputs": [],
   "source": []
  },
  {
   "cell_type": "code",
   "execution_count": 4,
   "metadata": {},
   "outputs": [],
   "source": [
    "i=0\n",
    "for i in range (0,19): \n",
    "    if i == 0:\n",
    "        df = pd.DataFrame.from_dict(json_normalize(json[i]), orient = 'columns')\n",
    "    else: \n",
    "        df2 = pd.DataFrame.from_dict(json_normalize(json[i]), orient = 'columns')\n",
    "        df = df.append(df2)"
   ]
  },
  {
   "cell_type": "code",
   "execution_count": 12,
   "metadata": {},
   "outputs": [
    {
     "data": {
      "text/html": [
       "<div>\n",
       "<style scoped>\n",
       "    .dataframe tbody tr th:only-of-type {\n",
       "        vertical-align: middle;\n",
       "    }\n",
       "\n",
       "    .dataframe tbody tr th {\n",
       "        vertical-align: top;\n",
       "    }\n",
       "\n",
       "    .dataframe thead th {\n",
       "        text-align: right;\n",
       "    }\n",
       "</style>\n",
       "<table border=\"1\" class=\"dataframe\">\n",
       "  <thead>\n",
       "    <tr style=\"text-align: right;\">\n",
       "      <th></th>\n",
       "      <th>id</th>\n",
       "      <th>species</th>\n",
       "      <th>quantity</th>\n",
       "      <th>description</th>\n",
       "      <th>url</th>\n",
       "      <th>latitude</th>\n",
       "      <th>longitude</th>\n",
       "      <th>location</th>\n",
       "      <th>sighted_at</th>\n",
       "      <th>created_at</th>\n",
       "      <th>updated_at</th>\n",
       "      <th>orca_type</th>\n",
       "      <th>orca_pod</th>\n",
       "    </tr>\n",
       "  </thead>\n",
       "  <tbody>\n",
       "    <tr>\n",
       "      <td>0</td>\n",
       "      <td>5a049b7e686f743ec5040000</td>\n",
       "      <td>orca</td>\n",
       "      <td>5</td>\n",
       "      <td>Spotted from the Edmonds-Kingston ferry, near ...</td>\n",
       "      <td>http://hotline.whalemuseum.org/sightings/5a049...</td>\n",
       "      <td>47.799530</td>\n",
       "      <td>-122.479967</td>\n",
       "      <td></td>\n",
       "      <td>2017-11-09T18:11:00Z</td>\n",
       "      <td>2017-11-09T18:16:30Z</td>\n",
       "      <td>2017-11-14T22:20:45Z</td>\n",
       "      <td>unknown</td>\n",
       "      <td>NaN</td>\n",
       "    </tr>\n",
       "    <tr>\n",
       "      <td>1</td>\n",
       "      <td>59d039a0686f743ec5020000</td>\n",
       "      <td>harbor porpoise</td>\n",
       "      <td>20</td>\n",
       "      <td>From the Inn at Langley looking east there was...</td>\n",
       "      <td>http://hotline.whalemuseum.org/sightings/59d03...</td>\n",
       "      <td>48.047448</td>\n",
       "      <td>-122.404776</td>\n",
       "      <td>Camano Island, WA, US</td>\n",
       "      <td>2017-10-01T00:38:00Z</td>\n",
       "      <td>2017-10-01T00:41:04Z</td>\n",
       "      <td>2017-10-03T22:01:43Z</td>\n",
       "      <td>unknown</td>\n",
       "      <td>NaN</td>\n",
       "    </tr>\n",
       "    <tr>\n",
       "      <td>2</td>\n",
       "      <td>59ab6d65686f747484140000</td>\n",
       "      <td>humpback</td>\n",
       "      <td>1</td>\n",
       "      <td>heading north in the Tacoma narrows,, between ...</td>\n",
       "      <td>http://hotline.whalemuseum.org/sightings/59ab6...</td>\n",
       "      <td>47.307289</td>\n",
       "      <td>-122.561674</td>\n",
       "      <td>Gig Harbor, WA, US</td>\n",
       "      <td>2017-09-03T00:45:00Z</td>\n",
       "      <td>2017-09-03T02:48:05Z</td>\n",
       "      <td>2017-09-06T18:17:03Z</td>\n",
       "      <td>unknown</td>\n",
       "      <td>NaN</td>\n",
       "    </tr>\n",
       "    <tr>\n",
       "      <td>3</td>\n",
       "      <td>597d058d686f7474840b0000</td>\n",
       "      <td>humpback</td>\n",
       "      <td>1</td>\n",
       "      <td>A large splash (breech?) first observed off Ke...</td>\n",
       "      <td>http://hotline.whalemuseum.org/sightings/597d0...</td>\n",
       "      <td>47.166960</td>\n",
       "      <td>-122.614546</td>\n",
       "      <td>Steilacoom, WA, US</td>\n",
       "      <td>2017-07-29T21:55:00Z</td>\n",
       "      <td>2017-07-29T22:00:45Z</td>\n",
       "      <td>2017-08-03T19:52:25Z</td>\n",
       "      <td>unknown</td>\n",
       "      <td>NaN</td>\n",
       "    </tr>\n",
       "    <tr>\n",
       "      <td>4</td>\n",
       "      <td>596b516e686f747484090000</td>\n",
       "      <td>humpback</td>\n",
       "      <td>1</td>\n",
       "      <td>On train near picnic point (south of Mukilteo)...</td>\n",
       "      <td>http://hotline.whalemuseum.org/sightings/596b5...</td>\n",
       "      <td>47.884579</td>\n",
       "      <td>-122.342120</td>\n",
       "      <td>Edmonds, WA, US</td>\n",
       "      <td>2017-07-16T02:39:00Z</td>\n",
       "      <td>2017-07-16T11:43:42Z</td>\n",
       "      <td>2017-08-03T19:51:46Z</td>\n",
       "      <td>unknown</td>\n",
       "      <td>NaN</td>\n",
       "    </tr>\n",
       "  </tbody>\n",
       "</table>\n",
       "</div>"
      ],
      "text/plain": [
       "                         id          species quantity  \\\n",
       "0  5a049b7e686f743ec5040000             orca        5   \n",
       "1  59d039a0686f743ec5020000  harbor porpoise       20   \n",
       "2  59ab6d65686f747484140000         humpback        1   \n",
       "3  597d058d686f7474840b0000         humpback        1   \n",
       "4  596b516e686f747484090000         humpback        1   \n",
       "\n",
       "                                         description  \\\n",
       "0  Spotted from the Edmonds-Kingston ferry, near ...   \n",
       "1  From the Inn at Langley looking east there was...   \n",
       "2  heading north in the Tacoma narrows,, between ...   \n",
       "3  A large splash (breech?) first observed off Ke...   \n",
       "4  On train near picnic point (south of Mukilteo)...   \n",
       "\n",
       "                                                 url   latitude   longitude  \\\n",
       "0  http://hotline.whalemuseum.org/sightings/5a049...  47.799530 -122.479967   \n",
       "1  http://hotline.whalemuseum.org/sightings/59d03...  48.047448 -122.404776   \n",
       "2  http://hotline.whalemuseum.org/sightings/59ab6...  47.307289 -122.561674   \n",
       "3  http://hotline.whalemuseum.org/sightings/597d0...  47.166960 -122.614546   \n",
       "4  http://hotline.whalemuseum.org/sightings/596b5...  47.884579 -122.342120   \n",
       "\n",
       "                location            sighted_at            created_at  \\\n",
       "0                         2017-11-09T18:11:00Z  2017-11-09T18:16:30Z   \n",
       "1  Camano Island, WA, US  2017-10-01T00:38:00Z  2017-10-01T00:41:04Z   \n",
       "2     Gig Harbor, WA, US  2017-09-03T00:45:00Z  2017-09-03T02:48:05Z   \n",
       "3     Steilacoom, WA, US  2017-07-29T21:55:00Z  2017-07-29T22:00:45Z   \n",
       "4        Edmonds, WA, US  2017-07-16T02:39:00Z  2017-07-16T11:43:42Z   \n",
       "\n",
       "             updated_at orca_type orca_pod  \n",
       "0  2017-11-14T22:20:45Z   unknown      NaN  \n",
       "1  2017-10-03T22:01:43Z   unknown      NaN  \n",
       "2  2017-09-06T18:17:03Z   unknown      NaN  \n",
       "3  2017-08-03T19:52:25Z   unknown      NaN  \n",
       "4  2017-08-03T19:51:46Z   unknown      NaN  "
      ]
     },
     "execution_count": 12,
     "metadata": {},
     "output_type": "execute_result"
    }
   ],
   "source": [
    "df = df.reset_index()\n",
    "\n",
    "df.head()\n"
   ]
  },
  {
   "cell_type": "code",
   "execution_count": 15,
   "metadata": {},
   "outputs": [],
   "source": [
    "df.to_json(r'data.json', orient = 'records')"
   ]
  },
  {
   "cell_type": "code",
   "execution_count": null,
   "metadata": {},
   "outputs": [],
   "source": [
    "df.count()"
   ]
  },
  {
   "cell_type": "code",
   "execution_count": null,
   "metadata": {},
   "outputs": [],
   "source": [
    "df.head()"
   ]
  },
  {
   "cell_type": "code",
   "execution_count": null,
   "metadata": {},
   "outputs": [],
   "source": [
    "locations = df.groupby(['location'])['id'].count()\n",
    "print(locations)"
   ]
  },
  {
   "cell_type": "code",
   "execution_count": null,
   "metadata": {},
   "outputs": [],
   "source": [
    "locations.plot(kind = \"pie\", autopct =\"%1.1f%%\")\n",
    "plt.title(\"Whale Sightings by Location\")\n",
    "plt.show()"
   ]
  },
  {
   "cell_type": "code",
   "execution_count": 23,
   "metadata": {},
   "outputs": [
    {
     "data": {
      "text/html": [
       "<div>\n",
       "<style scoped>\n",
       "    .dataframe tbody tr th:only-of-type {\n",
       "        vertical-align: middle;\n",
       "    }\n",
       "\n",
       "    .dataframe tbody tr th {\n",
       "        vertical-align: top;\n",
       "    }\n",
       "\n",
       "    .dataframe thead th {\n",
       "        text-align: right;\n",
       "    }\n",
       "</style>\n",
       "<table border=\"1\" class=\"dataframe\">\n",
       "  <thead>\n",
       "    <tr style=\"text-align: right;\">\n",
       "      <th></th>\n",
       "      <th>id</th>\n",
       "      <th>species</th>\n",
       "      <th>quantity</th>\n",
       "      <th>description</th>\n",
       "      <th>url</th>\n",
       "      <th>latitude</th>\n",
       "      <th>longitude</th>\n",
       "      <th>location</th>\n",
       "      <th>sighted_at</th>\n",
       "      <th>created_at</th>\n",
       "      <th>updated_at</th>\n",
       "      <th>orca_type</th>\n",
       "      <th>orca_pod</th>\n",
       "      <th>month</th>\n",
       "    </tr>\n",
       "  </thead>\n",
       "  <tbody>\n",
       "    <tr>\n",
       "      <td>0</td>\n",
       "      <td>5a049b7e686f743ec5040000</td>\n",
       "      <td>orca</td>\n",
       "      <td>5</td>\n",
       "      <td>Spotted from the Edmonds-Kingston ferry, near ...</td>\n",
       "      <td>http://hotline.whalemuseum.org/sightings/5a049...</td>\n",
       "      <td>47.799530</td>\n",
       "      <td>-122.479967</td>\n",
       "      <td></td>\n",
       "      <td>2017-11-09T18:11:00Z</td>\n",
       "      <td>2017-11-09T18:16:30Z</td>\n",
       "      <td>2017-11-14T22:20:45Z</td>\n",
       "      <td>unknown</td>\n",
       "      <td>NaN</td>\n",
       "      <td>2017</td>\n",
       "    </tr>\n",
       "    <tr>\n",
       "      <td>1</td>\n",
       "      <td>59d039a0686f743ec5020000</td>\n",
       "      <td>harbor porpoise</td>\n",
       "      <td>20</td>\n",
       "      <td>From the Inn at Langley looking east there was...</td>\n",
       "      <td>http://hotline.whalemuseum.org/sightings/59d03...</td>\n",
       "      <td>48.047448</td>\n",
       "      <td>-122.404776</td>\n",
       "      <td>Camano Island, WA, US</td>\n",
       "      <td>2017-10-01T00:38:00Z</td>\n",
       "      <td>2017-10-01T00:41:04Z</td>\n",
       "      <td>2017-10-03T22:01:43Z</td>\n",
       "      <td>unknown</td>\n",
       "      <td>NaN</td>\n",
       "      <td>2017</td>\n",
       "    </tr>\n",
       "    <tr>\n",
       "      <td>2</td>\n",
       "      <td>59ab6d65686f747484140000</td>\n",
       "      <td>humpback</td>\n",
       "      <td>1</td>\n",
       "      <td>heading north in the Tacoma narrows,, between ...</td>\n",
       "      <td>http://hotline.whalemuseum.org/sightings/59ab6...</td>\n",
       "      <td>47.307289</td>\n",
       "      <td>-122.561674</td>\n",
       "      <td>Gig Harbor, WA, US</td>\n",
       "      <td>2017-09-03T00:45:00Z</td>\n",
       "      <td>2017-09-03T02:48:05Z</td>\n",
       "      <td>2017-09-06T18:17:03Z</td>\n",
       "      <td>unknown</td>\n",
       "      <td>NaN</td>\n",
       "      <td>2017</td>\n",
       "    </tr>\n",
       "    <tr>\n",
       "      <td>3</td>\n",
       "      <td>597d058d686f7474840b0000</td>\n",
       "      <td>humpback</td>\n",
       "      <td>1</td>\n",
       "      <td>A large splash (breech?) first observed off Ke...</td>\n",
       "      <td>http://hotline.whalemuseum.org/sightings/597d0...</td>\n",
       "      <td>47.166960</td>\n",
       "      <td>-122.614546</td>\n",
       "      <td>Steilacoom, WA, US</td>\n",
       "      <td>2017-07-29T21:55:00Z</td>\n",
       "      <td>2017-07-29T22:00:45Z</td>\n",
       "      <td>2017-08-03T19:52:25Z</td>\n",
       "      <td>unknown</td>\n",
       "      <td>NaN</td>\n",
       "      <td>2017</td>\n",
       "    </tr>\n",
       "    <tr>\n",
       "      <td>4</td>\n",
       "      <td>596b516e686f747484090000</td>\n",
       "      <td>humpback</td>\n",
       "      <td>1</td>\n",
       "      <td>On train near picnic point (south of Mukilteo)...</td>\n",
       "      <td>http://hotline.whalemuseum.org/sightings/596b5...</td>\n",
       "      <td>47.884579</td>\n",
       "      <td>-122.342120</td>\n",
       "      <td>Edmonds, WA, US</td>\n",
       "      <td>2017-07-16T02:39:00Z</td>\n",
       "      <td>2017-07-16T11:43:42Z</td>\n",
       "      <td>2017-08-03T19:51:46Z</td>\n",
       "      <td>unknown</td>\n",
       "      <td>NaN</td>\n",
       "      <td>2017</td>\n",
       "    </tr>\n",
       "  </tbody>\n",
       "</table>\n",
       "</div>"
      ],
      "text/plain": [
       "                         id          species quantity  \\\n",
       "0  5a049b7e686f743ec5040000             orca        5   \n",
       "1  59d039a0686f743ec5020000  harbor porpoise       20   \n",
       "2  59ab6d65686f747484140000         humpback        1   \n",
       "3  597d058d686f7474840b0000         humpback        1   \n",
       "4  596b516e686f747484090000         humpback        1   \n",
       "\n",
       "                                         description  \\\n",
       "0  Spotted from the Edmonds-Kingston ferry, near ...   \n",
       "1  From the Inn at Langley looking east there was...   \n",
       "2  heading north in the Tacoma narrows,, between ...   \n",
       "3  A large splash (breech?) first observed off Ke...   \n",
       "4  On train near picnic point (south of Mukilteo)...   \n",
       "\n",
       "                                                 url   latitude   longitude  \\\n",
       "0  http://hotline.whalemuseum.org/sightings/5a049...  47.799530 -122.479967   \n",
       "1  http://hotline.whalemuseum.org/sightings/59d03...  48.047448 -122.404776   \n",
       "2  http://hotline.whalemuseum.org/sightings/59ab6...  47.307289 -122.561674   \n",
       "3  http://hotline.whalemuseum.org/sightings/597d0...  47.166960 -122.614546   \n",
       "4  http://hotline.whalemuseum.org/sightings/596b5...  47.884579 -122.342120   \n",
       "\n",
       "                location            sighted_at            created_at  \\\n",
       "0                         2017-11-09T18:11:00Z  2017-11-09T18:16:30Z   \n",
       "1  Camano Island, WA, US  2017-10-01T00:38:00Z  2017-10-01T00:41:04Z   \n",
       "2     Gig Harbor, WA, US  2017-09-03T00:45:00Z  2017-09-03T02:48:05Z   \n",
       "3     Steilacoom, WA, US  2017-07-29T21:55:00Z  2017-07-29T22:00:45Z   \n",
       "4        Edmonds, WA, US  2017-07-16T02:39:00Z  2017-07-16T11:43:42Z   \n",
       "\n",
       "             updated_at orca_type orca_pod  month  \n",
       "0  2017-11-14T22:20:45Z   unknown      NaN   2017  \n",
       "1  2017-10-03T22:01:43Z   unknown      NaN   2017  \n",
       "2  2017-09-06T18:17:03Z   unknown      NaN   2017  \n",
       "3  2017-08-03T19:52:25Z   unknown      NaN   2017  \n",
       "4  2017-08-03T19:51:46Z   unknown      NaN   2017  "
      ]
     },
     "execution_count": 23,
     "metadata": {},
     "output_type": "execute_result"
    }
   ],
   "source": [
    "#df[\"created_at\"] = pd.to_datetime(df[\"created_at\"])\n",
    "df[\"month\"]=pd.DatetimeIndex(df[\"created_at\"]).year\n",
    "\n",
    "df.head()"
   ]
  },
  {
   "cell_type": "code",
   "execution_count": 24,
   "metadata": {},
   "outputs": [
    {
     "data": {
      "text/plain": [
       "<matplotlib.axes._subplots.AxesSubplot at 0x228aa24d048>"
      ]
     },
     "execution_count": 24,
     "metadata": {},
     "output_type": "execute_result"
    },
    {
     "data": {
      "image/png": "[encoded data removed]",
      "text/plain": [
       "<Figure size 432x288 with 1 Axes>"
      ]
     },
     "metadata": {
      "needs_background": "light"
     },
     "output_type": "display_data"
    }
   ],
   "source": [
    "month = df.groupby([\"month\"])[\"id\"].count()\n",
    "month.plot(kind=\"bar\")"
   ]
  },
  {
   "cell_type": "code",
   "execution_count": 21,
   "metadata": {},
   "outputs": [
    {
     "data": {
      "text/plain": [
       "Text(0.5, 1.0, 'Whale Sightings by Pod')"
      ]
     },
     "execution_count": 21,
     "metadata": {},
     "output_type": "execute_result"
    },
    {
     "data": {
      "image/png": "[encoded data removed]",
      "text/plain": [
       "<Figure size 432x288 with 1 Axes>"
      ]
     },
     "metadata": {},
     "output_type": "display_data"
    }
   ],
   "source": [
    "species = df.groupby([\"orca_pod\"])[\"id\"].count()\n",
    "species.plot(kind=\"pie\", autopct=\"%1.1f%%\", startangle = 90)\n",
    "plt.ylabel(\"\")\n",
    "plt.title(\"Whale Sightings by Pod\")"
   ]
  }
 ],
 "metadata": {
  "kernelspec": {
   "display_name": "Python 3",
   "language": "python",
   "name": "python3"
  },
  "language_info": {
   "codemirror_mode": {
    "name": "ipython",
    "version": 3
   },
   "file_extension": ".py",
   "mimetype": "text/x-python",
   "name": "python",
   "nbconvert_exporter": "python",
   "pygments_lexer": "ipython3",
   "version": "3.7.4"
  }
 },
 "nbformat": 4,
 "nbformat_minor": 2
}
